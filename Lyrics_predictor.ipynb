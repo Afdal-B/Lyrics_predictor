{
  "cells": [
    {
      "cell_type": "code",
      "execution_count": 1,
      "metadata": {
        "id": "pHKvHcSGQXsE"
      },
      "outputs": [],
      "source": [
        "import tensorflow as tf\n",
        "import keras\n",
        "from keras.models import Sequential\n",
        "from keras.layers import Dense,LSTM,Embedding\n",
        "import numpy as np\n",
        "from sklearn import preprocessing"
      ]
    },
    {
      "cell_type": "markdown",
      "metadata": {
        "id": "FdsTieUS0WRa"
      },
      "source": [
        "We load our text"
      ]
    },
    {
      "cell_type": "code",
      "execution_count": 2,
      "metadata": {
        "id": "6muEh9XCuM5V"
      },
      "outputs": [],
      "source": [
        "lyrics_txt=open('/kanye_west.txt').read()"
      ]
    },
    {
      "cell_type": "markdown",
      "metadata": {
        "id": "LgUOoBXZ0iN2"
      },
      "source": [
        "We create a Tokenizer object to tokenize our text"
      ]
    },
    {
      "cell_type": "code",
      "execution_count": 3,
      "metadata": {
        "id": "ndG215oBurD7"
      },
      "outputs": [],
      "source": [
        "tokenizer=tf.keras.preprocessing.text.Tokenizer()\n",
        "tokenizer.fit_on_texts(lyrics_txt.lower().split('\\n'))"
      ]
    },
    {
      "cell_type": "markdown",
      "metadata": {
        "id": "OCbjW8sE10Hj"
      },
      "source": [
        "Now we generate our n-grams"
      ]
    },
    {
      "cell_type": "code",
      "execution_count": 4,
      "metadata": {
        "id": "rSkDvBw11206"
      },
      "outputs": [],
      "source": [
        "sequences_list=lyrics_txt.split('\\n')\n",
        "tokenized_ngram_list=[]\n",
        "for word_sequence in sequences_list:\n",
        "  tokenized_sequence=tokenizer.texts_to_sequences([word_sequence])[0]\n",
        "  #generate N-grams\n",
        "  for i in range(1,len(tokenized_sequence)):\n",
        "    n_gram=tokenized_sequence[:i+1]\n",
        "    #print(n_gram)\n",
        "    tokenized_ngram_list.append(n_gram)\n",
        "#print(tokenized_ngram_list)\n",
        "max_len=max([len(n_gram) for n_gram in tokenized_ngram_list])\n",
        "#Now we pad the sequences\n",
        "tokenized_ngram_list=tf.keras.utils.pad_sequences(tokenized_ngram_list,max_len,padding='pre')\n",
        "tokenized_ngram_array=np.array(tokenized_ngram_list)\n",
        "#print(tokenized_ngram_array)\n",
        "#tokens_array=tf.keras.utils.pad_sequences(tokens_array)"
      ]
    },
    {
      "cell_type": "markdown",
      "metadata": {
        "id": "qnjkD2jTlSLe"
      },
      "source": [
        "Create the predictors and the labels"
      ]
    },
    {
      "cell_type": "code",
      "execution_count": 5,
      "metadata": {
        "id": "hNmx7NDOlWMQ"
      },
      "outputs": [],
      "source": [
        "predictors,labels =tokenized_ngram_array[:,:-1],tokenized_ngram_array[:,-1]"
      ]
    },
    {
      "cell_type": "code",
      "execution_count": 6,
      "metadata": {
        "id": "UqAvdbr9nEAP"
      },
      "outputs": [],
      "source": [
        "#predictors"
      ]
    },
    {
      "cell_type": "code",
      "execution_count": 7,
      "metadata": {
        "id": "vuhLiXItnLQJ"
      },
      "outputs": [],
      "source": [
        "#labels.shape"
      ]
    },
    {
      "cell_type": "markdown",
      "metadata": {
        "id": "-pHz5pGjnVTZ"
      },
      "source": [
        "encode the labels"
      ]
    },
    {
      "cell_type": "code",
      "execution_count": 8,
      "metadata": {
        "id": "J3gXW3iwnbBK"
      },
      "outputs": [],
      "source": [
        "y=keras.utils.to_categorical(labels,num_classes=len(tokenizer.word_index)+1)\n",
        "#y"
      ]
    },
    {
      "cell_type": "markdown",
      "metadata": {
        "id": "eBUYNtg-r5b6"
      },
      "source": [
        "Create a model"
      ]
    },
    {
      "cell_type": "code",
      "execution_count": 9,
      "metadata": {
        "id": "DjX9VjO7r9eR"
      },
      "outputs": [],
      "source": [
        "from keras.src.layers import GlobalMaxPool1D\n",
        "from keras.src.layers.rnn import Bidirectional\n",
        "def create_model(vocabulary_size,seq_length):\n",
        "  model=keras.Sequential(name='mymodel')\n",
        "  model.add(Embedding(vocabulary_size,100,input_length=seq_length))\n",
        "  model.add(Bidirectional(LSTM(150,return_sequences=True)))\n",
        "  model.add(GlobalMaxPool1D())\n",
        "  model.add(Dense(vocabulary_size,activation=\"softmax\"))\n",
        "  model.compile(optimizer=\"adam\",loss=\"categorical_crossentropy\",metrics=[\"accuracy\"])\n",
        "  model.summary()\n",
        "  return model\n",
        "\n",
        "\n",
        "\n"
      ]
    },
    {
      "cell_type": "code",
      "execution_count": 10,
      "metadata": {
        "colab": {
          "base_uri": "https://localhost:8080/"
        },
        "id": "PI6IEa-3542x",
        "outputId": "2be3b759-4349-4821-9fce-c9a7946d9f54"
      },
      "outputs": [
        {
          "output_type": "stream",
          "name": "stdout",
          "text": [
            "Model: \"mymodel\"\n",
            "_________________________________________________________________\n",
            " Layer (type)                Output Shape              Param #   \n",
            "=================================================================\n",
            " embedding (Embedding)       (None, 238, 100)          614600    \n",
            "                                                                 \n",
            " bidirectional (Bidirection  (None, 238, 300)          301200    \n",
            " al)                                                             \n",
            "                                                                 \n",
            " global_max_pooling1d (Glob  (None, 300)               0         \n",
            " alMaxPooling1D)                                                 \n",
            "                                                                 \n",
            " dense (Dense)               (None, 6146)              1849946   \n",
            "                                                                 \n",
            "=================================================================\n",
            "Total params: 2765746 (10.55 MB)\n",
            "Trainable params: 2765746 (10.55 MB)\n",
            "Non-trainable params: 0 (0.00 Byte)\n",
            "_________________________________________________________________\n"
          ]
        }
      ],
      "source": [
        "vocabulary_size=len(tokenizer.word_index) + 1\n",
        "seq_length=predictors.shape[1]\n",
        "model=create_model(vocabulary_size,seq_length)"
      ]
    },
    {
      "cell_type": "code",
      "execution_count": 11,
      "metadata": {
        "colab": {
          "base_uri": "https://localhost:8080/",
          "height": 978
        },
        "id": "zfcINx0a547H",
        "outputId": "5e516e46-508b-4d57-9d98-db9cfccf69cf"
      },
      "outputs": [
        {
          "output_type": "stream",
          "name": "stdout",
          "text": [
            "Epoch 1/10\n",
            "1876/1876 [==============================] - 65s 30ms/step - loss: 6.4145 - accuracy: 0.0696\n",
            "Epoch 2/10\n",
            "1876/1876 [==============================] - 41s 22ms/step - loss: 5.5806 - accuracy: 0.0999\n",
            "Epoch 3/10\n",
            "1876/1876 [==============================] - 42s 22ms/step - loss: 5.1047 - accuracy: 0.1296\n",
            "Epoch 4/10\n",
            "1876/1876 [==============================] - 41s 22ms/step - loss: 4.7043 - accuracy: 0.1623\n",
            "Epoch 5/10\n",
            "1876/1876 [==============================] - 41s 22ms/step - loss: 4.3326 - accuracy: 0.1968\n",
            "Epoch 6/10\n",
            "1876/1876 [==============================] - 42s 22ms/step - loss: 3.9743 - accuracy: 0.2314\n",
            "Epoch 7/10\n",
            "1876/1876 [==============================] - 41s 22ms/step - loss: 3.7313 - accuracy: 0.2625\n",
            "Epoch 8/10\n",
            "1876/1876 [==============================] - 42s 22ms/step - loss: 3.4283 - accuracy: 0.3024\n",
            "Epoch 9/10\n",
            "1876/1876 [==============================] - 41s 22ms/step - loss: 3.2276 - accuracy: 0.3332\n",
            "Epoch 10/10\n",
            "1876/1876 [==============================] - 42s 22ms/step - loss: 3.0087 - accuracy: 0.3700\n"
          ]
        },
        {
          "output_type": "execute_result",
          "data": {
            "text/plain": [
              "<function matplotlib.pyplot.show(close=None, block=None)>"
            ],
            "text/html": [
              "<div style=\"max-width:800px; border: 1px solid var(--colab-border-color);\"><style>\n",
              "      pre.function-repr-contents {\n",
              "        overflow-x: auto;\n",
              "        padding: 8px 12px;\n",
              "        max-height: 500px;\n",
              "      }\n",
              "\n",
              "      pre.function-repr-contents.function-repr-contents-collapsed {\n",
              "        cursor: pointer;\n",
              "        max-height: 100px;\n",
              "      }\n",
              "    </style>\n",
              "    <pre style=\"white-space: initial; background:\n",
              "         var(--colab-secondary-surface-color); padding: 8px 12px;\n",
              "         border-bottom: 1px solid var(--colab-border-color);\"><b>matplotlib.pyplot.show</b><br/>def show(*args, **kwargs)</pre><pre class=\"function-repr-contents function-repr-contents-collapsed\" style=\"\"><a class=\"filepath\" style=\"display:none\" href=\"#\">/usr/local/lib/python3.10/dist-packages/matplotlib/pyplot.py</a>Display all open figures.\n",
              "\n",
              "Parameters\n",
              "----------\n",
              "block : bool, optional\n",
              "    Whether to wait for all figures to be closed before returning.\n",
              "\n",
              "    If `True` block and run the GUI main loop until all figure windows\n",
              "    are closed.\n",
              "\n",
              "    If `False` ensure that all figure windows are displayed and return\n",
              "    immediately.  In this case, you are responsible for ensuring\n",
              "    that the event loop is running to have responsive figures.\n",
              "\n",
              "    Defaults to True in non-interactive mode and to False in interactive\n",
              "    mode (see `.pyplot.isinteractive`).\n",
              "\n",
              "See Also\n",
              "--------\n",
              "ion : Enable interactive mode, which shows / updates the figure after\n",
              "      every plotting command, so that calling ``show()`` is not necessary.\n",
              "ioff : Disable interactive mode.\n",
              "savefig : Save the figure to an image file instead of showing it on screen.\n",
              "\n",
              "Notes\n",
              "-----\n",
              "**Saving figures to file and showing a window at the same time**\n",
              "\n",
              "If you want an image file as well as a user interface window, use\n",
              "`.pyplot.savefig` before `.pyplot.show`. At the end of (a blocking)\n",
              "``show()`` the figure is closed and thus unregistered from pyplot. Calling\n",
              "`.pyplot.savefig` afterwards would save a new and thus empty figure. This\n",
              "limitation of command order does not apply if the show is non-blocking or\n",
              "if you keep a reference to the figure and use `.Figure.savefig`.\n",
              "\n",
              "**Auto-show in jupyter notebooks**\n",
              "\n",
              "The jupyter backends (activated via ``%matplotlib inline``,\n",
              "``%matplotlib notebook``, or ``%matplotlib widget``), call ``show()`` at\n",
              "the end of every cell by default. Thus, you usually don&#x27;t have to call it\n",
              "explicitly there.</pre>\n",
              "      <script>\n",
              "      if (google.colab.kernel.accessAllowed && google.colab.files && google.colab.files.view) {\n",
              "        for (const element of document.querySelectorAll('.filepath')) {\n",
              "          element.style.display = 'block'\n",
              "          element.onclick = (event) => {\n",
              "            event.preventDefault();\n",
              "            event.stopPropagation();\n",
              "            google.colab.files.view(element.textContent, 401);\n",
              "          };\n",
              "        }\n",
              "      }\n",
              "      for (const element of document.querySelectorAll('.function-repr-contents')) {\n",
              "        element.onclick = (event) => {\n",
              "          event.preventDefault();\n",
              "          event.stopPropagation();\n",
              "          element.classList.toggle('function-repr-contents-collapsed');\n",
              "        };\n",
              "      }\n",
              "      </script>\n",
              "      </div>"
            ]
          },
          "metadata": {},
          "execution_count": 11
        },
        {
          "output_type": "display_data",
          "data": {
            "text/plain": [
              "<Figure size 640x480 with 1 Axes>"
            ],
            "image/png": "[encoded data removed]"
          },
          "metadata": {}
        }
      ],
      "source": [
        "from keras.src.callbacks import EarlyStopping\n",
        "es=EarlyStopping(monitor='loss',min_delta=0,patience=10,verbose=0,mode='auto')\n",
        "history=model.fit(predictors,y,epochs=10,verbose=1,callbacks=[es],shuffle=False)\n",
        "model.save('kanye')\n",
        "import matplotlib.pyplot as plt\n",
        "plt.plot(history.history['loss'])\n",
        "plt.xlabel(\"Epochs\")\n",
        "plt.ylabel('loss')\n",
        "plt.show"
      ]
    },
    {
      "cell_type": "markdown",
      "metadata": {
        "id": "BA3mV3PeSk1S"
      },
      "source": [
        "A function to generate lyrics"
      ]
    },
    {
      "cell_type": "code",
      "execution_count": 14,
      "metadata": {
        "colab": {
          "base_uri": "https://localhost:8080/"
        },
        "id": "_y9biPmwSwrP",
        "outputId": "c8c79ce2-f302-4892-b91b-8487adedf90e"
      },
      "outputs": [
        {
          "output_type": "stream",
          "name": "stdout",
          "text": [
            "who are you gonna be\n"
          ]
        }
      ],
      "source": [
        "model=keras.models.load_model('kanye')\n",
        "seed_text=\"who are you\"\n",
        "next_word=2\n",
        "\n",
        "for _ in range(next_word):\n",
        "  token_list=tokenizer.texts_to_sequences([seed_text])[0]\n",
        "  token_list=keras.utils.pad_sequences([token_list],maxlen=predictors.shape[1],padding=\"pre\")\n",
        "  predicted_token=model.predict(token_list,verbose=0)\n",
        "  predicted_word_id=np.argmax(predicted_token)\n",
        "  output_word=\"\"\n",
        "  for word, index in tokenizer.word_index.items():\n",
        "    if(index==predicted_word_id):\n",
        "      output_word=word\n",
        "      break\n",
        "  seed_text+=\" \"+output_word\n",
        "print(seed_text)\n"
      ]
    }
  ],
  "metadata": {
    "colab": {
      "provenance": [],
      "gpuType": "T4"
    },
    "kernelspec": {
      "display_name": "Python 3",
      "name": "python3"
    },
    "language_info": {
      "name": "python"
    },
    "accelerator": "GPU"
  },
  "nbformat": 4,
  "nbformat_minor": 0
}